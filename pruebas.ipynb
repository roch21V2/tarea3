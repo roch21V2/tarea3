{
 "cells": [
  {
   "cell_type": "code",
   "execution_count": 8,
   "id": "591ff25c",
   "metadata": {},
   "outputs": [
    {
     "name": "stdout",
     "output_type": "stream",
     "text": [
      "Connected to the Azure SQL Database successfully!\n"
     ]
    },
    {
     "name": "stderr",
     "output_type": "stream",
     "text": [
      "/var/folders/th/l_973jss7177y23lq6k2vcvh0000gn/T/ipykernel_66043/4098523625.py:36: UserWarning: pandas only supports SQLAlchemy connectable (engine/connection) or database string URI or sqlite3 DBAPI2 connection. Other DBAPI2 objects are not tested. Please consider using SQLAlchemy.\n",
      "  df = pd.read_sql(query, conn)\n"
     ]
    },
    {
     "name": "stdout",
     "output_type": "stream",
     "text": [
      "Data retrieved successfully!\n",
      "   CustomerID  NameStyle Title FirstName MiddleName    LastName Suffix  \\\n",
      "0           1      False   Mr.   Orlando         N.         Gee   None   \n",
      "1           2      False   Mr.     Keith       None      Harris   None   \n",
      "2           3      False   Ms.     Donna         F.    Carreras   None   \n",
      "3           4      False   Ms.     Janet         M.       Gates   None   \n",
      "4           5      False   Mr.      Lucy       None  Harrington   None   \n",
      "\n",
      "                  CompanyName               SalesPerson  \\\n",
      "0                A Bike Store   adventure-works\\pamela0   \n",
      "1          Progressive Sports    adventure-works\\david8   \n",
      "2    Advanced Bike Components  adventure-works\\jillian0   \n",
      "3       Modular Cycle Systems  adventure-works\\jillian0   \n",
      "4  Metropolitan Sports Supply      adventure-works\\shu0   \n",
      "\n",
      "                   EmailAddress         Phone  \\\n",
      "0  orlando0@adventure-works.com  245-555-0173   \n",
      "1    keith0@adventure-works.com  170-555-0127   \n",
      "2    donna0@adventure-works.com  279-555-0130   \n",
      "3    janet1@adventure-works.com  710-555-0173   \n",
      "4     lucy0@adventure-works.com  828-555-0186   \n",
      "\n",
      "                                   PasswordHash PasswordSalt  \\\n",
      "0  L/Rlwxzp4w7RWmEgXX+/A7cXaePEPcp+KwQhl2fJL7w=     1KjXYs4=   \n",
      "1  YPdtRdvqeAhj6wyxEsFdshBDNXxkCXn+CRgbvJItknw=     fs1ZGhY=   \n",
      "2  LNoK27abGQo48gGue3EBV/UrlYSToV0/s87dCRV7uJk=     YTNH5Rw=   \n",
      "3  ElzTpSNbUW1Ut+L5cWlfR7MF6nBZia8WpmGaQPjLOJA=     nm7D5e4=   \n",
      "4  KJqV15wsX3PG8TS5GSddp6LFFVdd3CoRftZM/tP0+R4=     cNFKU4w=   \n",
      "\n",
      "                                rowguid ModifiedDate  \n",
      "0  3F5AE95E-B87D-4AED-95B4-C3797AFCB74F   2005-08-01  \n",
      "1  E552F657-A9AF-4A7D-A645-C429D6E02491   2006-08-01  \n",
      "2  130774B1-DB21-4EF3-98C8-C104BCD6ED6D   2005-09-01  \n",
      "3  FF862851-1DAA-4044-BE7C-3E85583C054D   2006-07-01  \n",
      "4  83905BDC-6F5E-4F71-B162-C98DA069F38A   2006-09-01  \n",
      "<class 'pandas.core.frame.DataFrame'>\n",
      "RangeIndex: 847 entries, 0 to 846\n",
      "Data columns (total 15 columns):\n",
      " #   Column        Non-Null Count  Dtype         \n",
      "---  ------        --------------  -----         \n",
      " 0   CustomerID    847 non-null    int64         \n",
      " 1   NameStyle     847 non-null    bool          \n",
      " 2   Title         840 non-null    object        \n",
      " 3   FirstName     847 non-null    object        \n",
      " 4   MiddleName    504 non-null    object        \n",
      " 5   LastName      847 non-null    object        \n",
      " 6   Suffix        48 non-null     object        \n",
      " 7   CompanyName   847 non-null    object        \n",
      " 8   SalesPerson   847 non-null    object        \n",
      " 9   EmailAddress  847 non-null    object        \n",
      " 10  Phone         847 non-null    object        \n",
      " 11  PasswordHash  847 non-null    object        \n",
      " 12  PasswordSalt  847 non-null    object        \n",
      " 13  rowguid       847 non-null    object        \n",
      " 14  ModifiedDate  847 non-null    datetime64[ns]\n",
      "dtypes: bool(1), datetime64[ns](1), int64(1), object(12)\n",
      "memory usage: 93.6+ KB\n",
      "None\n"
     ]
    }
   ],
   "source": [
    "import pyodbc\n",
    "import pandas as pd\n",
    "# Set up your connection string\n",
    "from dotenv import load_dotenv\n",
    "import os \n",
    "\n",
    "load_dotenv()\n",
    "\n",
    "server = os.getenv('SERVER')\n",
    "database = os.getenv('DATABASE')\n",
    "username = os.getenv('USERNAME')\n",
    "password = os.getenv('PASSWORD')\n",
    "\n",
    "# Define the connection string for SQL Server (Azure)\n",
    "conn_str = (\n",
    "    f'DRIVER={{ODBC Driver 18 for SQL Server}};'\n",
    "    f'SERVER={server};'\n",
    "    f'DATABASE={database};'\n",
    "    f'UID={username};'\n",
    "    f'PWD={password}'\n",
    ")\n",
    "\n",
    "# Establish the connection\n",
    "try:\n",
    "    conn = pyodbc.connect(conn_str)\n",
    "    print(\"Connected to the Azure SQL Database successfully!\")\n",
    "\n",
    "except pyodbc.Error as e:\n",
    "    print(f\"Error connecting to the database: {e}\")\n",
    "\n",
    "\n",
    "query = \"SELECT * FROM SalesLT.customer\"\n",
    "\n",
    "try:\n",
    "    # Read data into a DataFrame\n",
    "    df = pd.read_sql(query, conn)\n",
    "    print(\"Data retrieved successfully!\")\n",
    "except Exception as e:\n",
    "    print(f\"Error reading data: {e}\")\n",
    "\n",
    "conn.close()\n",
    "\n",
    "print(df.head())  # Display the first few rows of the DataFrame\n",
    "\n",
    "print(df.info())  # Display DataFrame information"
   ]
  },
  {
   "cell_type": "code",
   "execution_count": null,
   "id": "d6896f07",
   "metadata": {},
   "outputs": [],
   "source": []
  },
  {
   "cell_type": "code",
   "execution_count": null,
   "id": "8ffa4dd0",
   "metadata": {},
   "outputs": [],
   "source": []
  }
 ],
 "metadata": {
  "kernelspec": {
   "display_name": ".venv",
   "language": "python",
   "name": "python3"
  },
  "language_info": {
   "codemirror_mode": {
    "name": "ipython",
    "version": 3
   },
   "file_extension": ".py",
   "mimetype": "text/x-python",
   "name": "python",
   "nbconvert_exporter": "python",
   "pygments_lexer": "ipython3",
   "version": "3.10.16"
  }
 },
 "nbformat": 4,
 "nbformat_minor": 5
}
