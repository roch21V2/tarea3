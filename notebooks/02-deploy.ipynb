{
 "cells": [
  {
   "cell_type": "markdown",
   "id": "618e19bc",
   "metadata": {},
   "source": [
    "# Notebook para el despliegue del modelo en la nube de Azure\n",
    "\n",
    "---"
   ]
  },
  {
   "cell_type": "code",
   "execution_count": null,
   "id": "afde6b9e",
   "metadata": {},
   "outputs": [
    {
     "name": "stdout",
     "output_type": "stream",
     "text": [
      "Performing interactive authentication. Please follow the instructions on the terminal.\n"
     ]
    },
    {
     "name": "stderr",
     "output_type": "stream",
     "text": [
      "The default web browser has been opened at https://login.microsoftonline.com/4130bd39-7c53-419c-b1e5-8758d6d63f21/oauth2/v2.0/authorize. Please continue the login in the web browser. If no web browser is available or if the web browser fails to open, use device code flow with `az login --use-device-code`.\n"
     ]
    },
    {
     "name": "stdout",
     "output_type": "stream",
     "text": [
      "Interactive authentication successfully completed.\n",
      "Deploying StorageAccount with name workspacstorage9615a8962.\n",
      "Deploying KeyVault with name workspackeyvault6c3ae54a.\n",
      "Deploying AppInsights with name workspacinsightsfe37e627.\n",
      "Deployed AppInsights with name workspacinsightsfe37e627. Took 1.93 seconds.\n",
      "Deployed KeyVault with name workspackeyvault6c3ae54a. Took 18.21 seconds.\n",
      "Deploying Workspace with name workspace4.\n",
      "Deployed StorageAccount with name workspacstorage9615a8962. Took 24.68 seconds.\n",
      "Deployed Workspace with name workspace4. Took 21.17 seconds.\n",
      "Registering model model\n"
     ]
    }
   ],
   "source": [
    "import os\n",
    "from dotenv import load_dotenv\n",
    "from azureml.core.authentication import InteractiveLoginAuthentication\n",
    "from azureml.core.model import Model\n",
    "from azureml.core import Workspace\n",
    "\n",
    "load_dotenv()\n",
    "\n",
    "# Usamos una variable de entorno oculta para cargar el id de la suscripción\n",
    "# Se trata de un archivo .env que debe estar en el mismo directorio que este script\n",
    "SUBSCRIPTION_ID = os.getenv(\"MY_SECRET\")\n",
    "TENANT_ID = os.getenv(\"TENANT_ID\")\n",
    "\n",
    "# Needs to be done to set the subscription id if using multiple subscriptions\n",
    "# with the same tenant\n",
    "ia = InteractiveLoginAuthentication(tenant_id=TENANT_ID)\n",
    "\n",
    "\n",
    "ws = Workspace.create(\n",
    "    name=\"workspace4\",\n",
    "    subscription_id=SUBSCRIPTION_ID,\n",
    "    resource_group=\"act-cloud-3\",\n",
    "    location=\"eastus2\",\n",
    ")\n",
    "\n",
    "MODEL_NAME = \"model\"\n",
    "registered_model = Model.register(\n",
    "    model_path=\"../models/linear_model.pkl\",\n",
    "    model_name=MODEL_NAME,\n",
    "    workspace=ws,\n",
    ")"
   ]
  },
  {
   "cell_type": "code",
   "execution_count": null,
   "id": "1d00f9ef",
   "metadata": {},
   "outputs": [],
   "source": [
    "from azureml.core.conda_dependencies import CondaDependencies\n",
    "from azureml.core.environment import Environment\n",
    "from azureml.core.model import InferenceConfig\n",
    "from azureml.core.webservice import AciWebservice\n",
    "\n",
    "virtual_env = Environment(\"env-4-dates\")\n",
    "\n",
    "## Usar los paquetes correctos\n",
    "virtual_env.python.conda_dependencies = CondaDependencies.create(\n",
    "    conda_packages=[\"pandas\", \"scikit-learn\"]\n",
    ")\n",
    "\n",
    "inference_config = InferenceConfig(\n",
    "    environment=virtual_env,\n",
    "    entry_script=\"../src/sscore.py\",\n",
    ")\n",
    "\n",
    "aci_config = AciWebservice.deploy_configuration(cpu_cores=0.5, memory_gb=1)\n",
    "\n",
    "service = Model.deploy(\n",
    "    workspace=ws,\n",
    "    name=\"service-2\",\n",
    "    models=[registered_model],\n",
    "    inference_config=inference_config,\n",
    "    deployment_config=aci_config,\n",
    "    overwrite=True,\n",
    ")"
   ]
  }
 ],
 "metadata": {
  "kernelspec": {
   "display_name": ".venv",
   "language": "python",
   "name": "python3"
  },
  "language_info": {
   "codemirror_mode": {
    "name": "ipython",
    "version": 3
   },
   "file_extension": ".py",
   "mimetype": "text/x-python",
   "name": "python",
   "nbconvert_exporter": "python",
   "pygments_lexer": "ipython3",
   "version": "3.10.16"
  }
 },
 "nbformat": 4,
 "nbformat_minor": 5
}
