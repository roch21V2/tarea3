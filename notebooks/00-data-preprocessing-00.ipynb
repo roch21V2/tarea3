{
 "cells": [
  {
   "cell_type": "code",
   "execution_count": 1,
   "id": "09b86047",
   "metadata": {},
   "outputs": [],
   "source": [
    "import typing as t\n",
    "import pyodbc\n",
    "import pandas as pd\n",
    "from dotenv import load_dotenv\n",
    "import os\n",
    "\n",
    "load_dotenv()\n",
    "\n",
    "SERVER = os.getenv(\"SERVER\")\n",
    "DATABASE = os.getenv(\"DATABASE\")\n",
    "USERNAME = os.getenv(\"USERNAME\")\n",
    "PASSWORD = os.getenv(\"PASSWORD\")\n",
    "\n",
    "# Define the connection string for SQL Server (Azure)\n",
    "CONN_STR = (\n",
    "    f\"DRIVER={{ODBC Driver 18 for SQL Server}};\"\n",
    "    f\"SERVER={SERVER};\"\n",
    "    f\"DATABASE={DATABASE};\"\n",
    "    f\"UID={USERNAME};\"\n",
    "    f\"PWD={PASSWORD}\"\n",
    ")"
   ]
  },
  {
   "cell_type": "code",
   "execution_count": null,
   "id": "591ff25c",
   "metadata": {},
   "outputs": [
    {
     "name": "stdout",
     "output_type": "stream",
     "text": [
      "Connected to the Azure SQL Database successfully!\n"
     ]
    },
    {
     "name": "stderr",
     "output_type": "stream",
     "text": [
      "C:\\Users\\angel\\AppData\\Local\\Temp\\ipykernel_8984\\4098523625.py:36: UserWarning: pandas only supports SQLAlchemy connectable (engine/connection) or database string URI or sqlite3 DBAPI2 connection. Other DBAPI2 objects are not tested. Please consider using SQLAlchemy.\n",
      "  df = pd.read_sql(query, conn)\n"
     ]
    },
    {
     "name": "stdout",
     "output_type": "stream",
     "text": [
      "Data retrieved successfully!\n",
      "   CustomerID  NameStyle Title FirstName MiddleName    LastName Suffix  \\\n",
      "0           1      False   Mr.   Orlando         N.         Gee   None   \n",
      "1           2      False   Mr.     Keith       None      Harris   None   \n",
      "2           3      False   Ms.     Donna         F.    Carreras   None   \n",
      "3           4      False   Ms.     Janet         M.       Gates   None   \n",
      "4           5      False   Mr.      Lucy       None  Harrington   None   \n",
      "\n",
      "                  CompanyName               SalesPerson  \\\n",
      "0                A Bike Store   adventure-works\\pamela0   \n",
      "1          Progressive Sports    adventure-works\\david8   \n",
      "2    Advanced Bike Components  adventure-works\\jillian0   \n",
      "3       Modular Cycle Systems  adventure-works\\jillian0   \n",
      "4  Metropolitan Sports Supply      adventure-works\\shu0   \n",
      "\n",
      "                   EmailAddress         Phone  \\\n",
      "0  orlando0@adventure-works.com  245-555-0173   \n",
      "1    keith0@adventure-works.com  170-555-0127   \n",
      "2    donna0@adventure-works.com  279-555-0130   \n",
      "3    janet1@adventure-works.com  710-555-0173   \n",
      "4     lucy0@adventure-works.com  828-555-0186   \n",
      "\n",
      "                                   PasswordHash PasswordSalt  \\\n",
      "0  L/Rlwxzp4w7RWmEgXX+/A7cXaePEPcp+KwQhl2fJL7w=     1KjXYs4=   \n",
      "1  YPdtRdvqeAhj6wyxEsFdshBDNXxkCXn+CRgbvJItknw=     fs1ZGhY=   \n",
      "2  LNoK27abGQo48gGue3EBV/UrlYSToV0/s87dCRV7uJk=     YTNH5Rw=   \n",
      "3  ElzTpSNbUW1Ut+L5cWlfR7MF6nBZia8WpmGaQPjLOJA=     nm7D5e4=   \n",
      "4  KJqV15wsX3PG8TS5GSddp6LFFVdd3CoRftZM/tP0+R4=     cNFKU4w=   \n",
      "\n",
      "                                rowguid ModifiedDate  \n",
      "0  3F5AE95E-B87D-4AED-95B4-C3797AFCB74F   2005-08-01  \n",
      "1  E552F657-A9AF-4A7D-A645-C429D6E02491   2006-08-01  \n",
      "2  130774B1-DB21-4EF3-98C8-C104BCD6ED6D   2005-09-01  \n",
      "3  FF862851-1DAA-4044-BE7C-3E85583C054D   2006-07-01  \n",
      "4  83905BDC-6F5E-4F71-B162-C98DA069F38A   2006-09-01  \n",
      "<class 'pandas.core.frame.DataFrame'>\n",
      "RangeIndex: 847 entries, 0 to 846\n",
      "Data columns (total 15 columns):\n",
      " #   Column        Non-Null Count  Dtype         \n",
      "---  ------        --------------  -----         \n",
      " 0   CustomerID    847 non-null    int64         \n",
      " 1   NameStyle     847 non-null    bool          \n",
      " 2   Title         840 non-null    object        \n",
      " 3   FirstName     847 non-null    object        \n",
      " 4   MiddleName    504 non-null    object        \n",
      " 5   LastName      847 non-null    object        \n",
      " 6   Suffix        48 non-null     object        \n",
      " 7   CompanyName   847 non-null    object        \n",
      " 8   SalesPerson   847 non-null    object        \n",
      " 9   EmailAddress  847 non-null    object        \n",
      " 10  Phone         847 non-null    object        \n",
      " 11  PasswordHash  847 non-null    object        \n",
      " 12  PasswordSalt  847 non-null    object        \n",
      " 13  rowguid       847 non-null    object        \n",
      " 14  ModifiedDate  847 non-null    datetime64[ns]\n",
      "dtypes: bool(1), datetime64[ns](1), int64(1), object(12)\n",
      "memory usage: 93.6+ KB\n",
      "None\n"
     ]
    }
   ],
   "source": [
    "def get_data() -> pd.DataFrame:\n",
    "    \"\"\"\n",
    "    Get initial data from the Azure SQL Database.\n",
    "\n",
    "    Returns:\n",
    "        pd.DataFrame: DataFrame containing the data from the database.\n",
    "    \"\"\"\n",
    "\n",
    "    try:\n",
    "        conn = pyodbc.connect(CONN_STR)\n",
    "        print(\"Connected to the Azure SQL Database successfully!\")\n",
    "\n",
    "    except pyodbc.Error as e:\n",
    "        print(f\"Error connecting to the database: {e}\")\n",
    "\n",
    "    query = \"SELECT * FROM SalesLT.customerFROM\"\n",
    "\n",
    "    try:\n",
    "        df = pd.read_sql(query, conn)\n",
    "        print(\"Data retrieved successfully!\")\n",
    "        conn.close()\n",
    "    except Exception as e:\n",
    "        print(f\"Error reading data: {e}\")\n",
    "        return pd.DataFrame()\n",
    "\n",
    "    return df\n",
    "\n",
    "\n",
    "df: pd.DataFrame = get_data()\n",
    "\n",
    "df.head()"
   ]
  },
  {
   "cell_type": "code",
   "execution_count": null,
   "id": "d6896f07",
   "metadata": {},
   "outputs": [],
   "source": [
    "def prepare_data(df: pd.DataFrame) -> pd.DataFrame:\n",
    "    \"\"\"\n",
    "    Prepares the data for prediction.\n",
    "\n",
    "    Args:\n",
    "        df (pd.DataFrame): The input DataFrame containing the data.\n",
    "\n",
    "    Returns:\n",
    "        pd.DataFrame: The prepared DataFrame with the necessary features.\n",
    "    \"\"\"\n",
    "\n",
    "    df = df[[\"FirstName\", \"ModifiedDate\"]].sort_values(by=\"ModifiedDate\")\n",
    "    df[\"FirstNameLen\"] = df[\"FirstName\"].str.len()\n",
    "    df[\"ModifiedDate\"] = (\n",
    "        pd.to_datetime(df[\"ModifiedDate\"]) - pd.to_datetime(df[\"ModifiedDate\"]).min()\n",
    "    )\n",
    "    df[\"ModifiedDate\"] = df[\"ModifiedDate\"].dt.days\n",
    "\n",
    "    return df[[\"FirstNameLen\", \"ModifiedDate\"]].reset_index(drop=True)\n"
   ]
  },
  {
   "cell_type": "code",
   "execution_count": null,
   "id": "8ffa4dd0",
   "metadata": {},
   "outputs": [
    {
     "name": "stdout",
     "output_type": "stream",
     "text": [
      "    FirstNameLen  ModifiedDate\n",
      "0              5             0\n",
      "1              7             0\n",
      "2              5             0\n",
      "3              7             0\n",
      "4              7             0\n",
      "..           ...           ...\n",
      "95             5            31\n",
      "96             6            31\n",
      "97             5            31\n",
      "98             5            31\n",
      "99             5            31\n",
      "\n",
      "[100 rows x 2 columns]\n"
     ]
    }
   ],
   "source": [
    "df2 = prepare_data(df)\n",
    "df2.head(100)"
   ]
  },
  {
   "cell_type": "code",
   "execution_count": null,
   "id": "39b1ec5d",
   "metadata": {},
   "outputs": [
    {
     "data": {
      "application/vnd.microsoft.datawrangler.viewer.v0+json": {
       "columns": [
        {
         "name": "index",
         "rawType": "int64",
         "type": "integer"
        },
        {
         "name": "FirstNameLen",
         "rawType": "int64",
         "type": "integer"
        },
        {
         "name": "ModifiedDate",
         "rawType": "datetime64[ns]",
         "type": "datetime"
        }
       ],
       "conversionMethod": "pd.DataFrame",
       "ref": "30a6e40d-1cb0-4fef-99c7-25309771fdc7",
       "rows": [
        [
         "0",
         "5",
         "2005-07-01 00:00:00"
        ],
        [
         "1",
         "7",
         "2005-07-01 00:00:00"
        ],
        [
         "2",
         "5",
         "2005-07-01 00:00:00"
        ],
        [
         "3",
         "7",
         "2005-07-01 00:00:00"
        ],
        [
         "4",
         "7",
         "2005-07-01 00:00:00"
        ],
        [
         "5",
         "6",
         "2005-07-01 00:00:00"
        ],
        [
         "6",
         "5",
         "2005-07-01 00:00:00"
        ],
        [
         "7",
         "5",
         "2005-07-01 00:00:00"
        ],
        [
         "8",
         "6",
         "2005-07-01 00:00:00"
        ],
        [
         "9",
         "7",
         "2005-07-01 00:00:00"
        ],
        [
         "10",
         "4",
         "2005-07-01 00:00:00"
        ],
        [
         "11",
         "7",
         "2005-07-01 00:00:00"
        ],
        [
         "12",
         "7",
         "2005-07-01 00:00:00"
        ],
        [
         "13",
         "6",
         "2005-07-01 00:00:00"
        ],
        [
         "14",
         "5",
         "2005-07-01 00:00:00"
        ],
        [
         "15",
         "6",
         "2005-07-01 00:00:00"
        ],
        [
         "16",
         "4",
         "2005-07-01 00:00:00"
        ],
        [
         "17",
         "7",
         "2005-07-01 00:00:00"
        ],
        [
         "18",
         "7",
         "2005-07-01 00:00:00"
        ],
        [
         "19",
         "5",
         "2005-07-01 00:00:00"
        ],
        [
         "20",
         "7",
         "2005-07-01 00:00:00"
        ],
        [
         "21",
         "7",
         "2005-07-01 00:00:00"
        ],
        [
         "22",
         "6",
         "2005-07-01 00:00:00"
        ],
        [
         "23",
         "7",
         "2005-07-01 00:00:00"
        ],
        [
         "24",
         "5",
         "2005-07-01 00:00:00"
        ],
        [
         "25",
         "4",
         "2005-07-01 00:00:00"
        ],
        [
         "26",
         "6",
         "2005-07-01 00:00:00"
        ],
        [
         "27",
         "3",
         "2005-07-01 00:00:00"
        ],
        [
         "28",
         "8",
         "2005-07-01 00:00:00"
        ],
        [
         "29",
         "4",
         "2005-07-01 00:00:00"
        ],
        [
         "30",
         "6",
         "2005-07-01 00:00:00"
        ],
        [
         "31",
         "5",
         "2005-07-01 00:00:00"
        ],
        [
         "32",
         "5",
         "2005-07-01 00:00:00"
        ],
        [
         "33",
         "7",
         "2005-07-01 00:00:00"
        ],
        [
         "34",
         "7",
         "2005-07-01 00:00:00"
        ],
        [
         "35",
         "5",
         "2005-07-01 00:00:00"
        ],
        [
         "36",
         "7",
         "2005-07-01 00:00:00"
        ],
        [
         "37",
         "4",
         "2005-07-01 00:00:00"
        ],
        [
         "38",
         "5",
         "2005-07-01 00:00:00"
        ],
        [
         "39",
         "3",
         "2005-07-01 00:00:00"
        ],
        [
         "40",
         "7",
         "2005-07-01 00:00:00"
        ],
        [
         "41",
         "4",
         "2005-07-01 00:00:00"
        ],
        [
         "42",
         "7",
         "2005-07-01 00:00:00"
        ],
        [
         "43",
         "6",
         "2005-07-01 00:00:00"
        ],
        [
         "44",
         "3",
         "2005-07-01 00:00:00"
        ],
        [
         "45",
         "7",
         "2005-07-01 00:00:00"
        ],
        [
         "46",
         "8",
         "2005-07-01 00:00:00"
        ],
        [
         "47",
         "5",
         "2005-07-01 00:00:00"
        ],
        [
         "48",
         "4",
         "2005-07-01 00:00:00"
        ],
        [
         "49",
         "6",
         "2005-07-01 00:00:00"
        ]
       ],
       "shape": {
        "columns": 2,
        "rows": 100
       }
      },
      "text/html": [
       "<div>\n",
       "<style scoped>\n",
       "    .dataframe tbody tr th:only-of-type {\n",
       "        vertical-align: middle;\n",
       "    }\n",
       "\n",
       "    .dataframe tbody tr th {\n",
       "        vertical-align: top;\n",
       "    }\n",
       "\n",
       "    .dataframe thead th {\n",
       "        text-align: right;\n",
       "    }\n",
       "</style>\n",
       "<table border=\"1\" class=\"dataframe\">\n",
       "  <thead>\n",
       "    <tr style=\"text-align: right;\">\n",
       "      <th></th>\n",
       "      <th>FirstNameLen</th>\n",
       "      <th>ModifiedDate</th>\n",
       "    </tr>\n",
       "  </thead>\n",
       "  <tbody>\n",
       "    <tr>\n",
       "      <th>0</th>\n",
       "      <td>5</td>\n",
       "      <td>2005-07-01</td>\n",
       "    </tr>\n",
       "    <tr>\n",
       "      <th>1</th>\n",
       "      <td>7</td>\n",
       "      <td>2005-07-01</td>\n",
       "    </tr>\n",
       "    <tr>\n",
       "      <th>2</th>\n",
       "      <td>5</td>\n",
       "      <td>2005-07-01</td>\n",
       "    </tr>\n",
       "    <tr>\n",
       "      <th>3</th>\n",
       "      <td>7</td>\n",
       "      <td>2005-07-01</td>\n",
       "    </tr>\n",
       "    <tr>\n",
       "      <th>4</th>\n",
       "      <td>7</td>\n",
       "      <td>2005-07-01</td>\n",
       "    </tr>\n",
       "    <tr>\n",
       "      <th>...</th>\n",
       "      <td>...</td>\n",
       "      <td>...</td>\n",
       "    </tr>\n",
       "    <tr>\n",
       "      <th>95</th>\n",
       "      <td>5</td>\n",
       "      <td>2005-08-01</td>\n",
       "    </tr>\n",
       "    <tr>\n",
       "      <th>96</th>\n",
       "      <td>6</td>\n",
       "      <td>2005-08-01</td>\n",
       "    </tr>\n",
       "    <tr>\n",
       "      <th>97</th>\n",
       "      <td>5</td>\n",
       "      <td>2005-08-01</td>\n",
       "    </tr>\n",
       "    <tr>\n",
       "      <th>98</th>\n",
       "      <td>5</td>\n",
       "      <td>2005-08-01</td>\n",
       "    </tr>\n",
       "    <tr>\n",
       "      <th>99</th>\n",
       "      <td>5</td>\n",
       "      <td>2005-08-01</td>\n",
       "    </tr>\n",
       "  </tbody>\n",
       "</table>\n",
       "<p>100 rows × 2 columns</p>\n",
       "</div>"
      ],
      "text/plain": [
       "    FirstNameLen ModifiedDate\n",
       "0              5   2005-07-01\n",
       "1              7   2005-07-01\n",
       "2              5   2005-07-01\n",
       "3              7   2005-07-01\n",
       "4              7   2005-07-01\n",
       "..           ...          ...\n",
       "95             5   2005-08-01\n",
       "96             6   2005-08-01\n",
       "97             5   2005-08-01\n",
       "98             5   2005-08-01\n",
       "99             5   2005-08-01\n",
       "\n",
       "[100 rows x 2 columns]"
      ]
     },
     "execution_count": 15,
     "metadata": {},
     "output_type": "execute_result"
    }
   ],
   "source": [
    "# Assign dates to the ModifiedDate column\n",
    "df3 = df2.copy()\n",
    "\n",
    "df3[\"ModifiedDate\"] = pd.to_datetime(\n",
    "    df2[\"ModifiedDate\"],\n",
    "    unit=\"D\",\n",
    "    origin=\"2005-07-01\",\n",
    ")\n",
    "\n",
    "df3.head(100)"
   ]
  },
  {
   "cell_type": "code",
   "execution_count": 16,
   "id": "87a475ad",
   "metadata": {},
   "outputs": [
    {
     "data": {
      "application/vnd.microsoft.datawrangler.viewer.v0+json": {
       "columns": [
        {
         "name": "index",
         "rawType": "int64",
         "type": "integer"
        },
        {
         "name": "FirstNameLen",
         "rawType": "int64",
         "type": "integer"
        },
        {
         "name": "ModifiedDate",
         "rawType": "datetime64[ns]",
         "type": "datetime"
        }
       ],
       "conversionMethod": "pd.DataFrame",
       "ref": "e034fd60-70b2-4270-957b-cb7afaf4452f",
       "rows": [
        [
         "842",
         "7",
         "2009-05-16 00:00:00"
        ],
        [
         "843",
         "8",
         "2009-05-16 00:00:00"
        ],
        [
         "844",
         "8",
         "2009-05-16 00:00:00"
        ],
        [
         "845",
         "3",
         "2009-05-16 00:00:00"
        ],
        [
         "846",
         "3",
         "2009-05-16 00:00:00"
        ]
       ],
       "shape": {
        "columns": 2,
        "rows": 5
       }
      },
      "text/html": [
       "<div>\n",
       "<style scoped>\n",
       "    .dataframe tbody tr th:only-of-type {\n",
       "        vertical-align: middle;\n",
       "    }\n",
       "\n",
       "    .dataframe tbody tr th {\n",
       "        vertical-align: top;\n",
       "    }\n",
       "\n",
       "    .dataframe thead th {\n",
       "        text-align: right;\n",
       "    }\n",
       "</style>\n",
       "<table border=\"1\" class=\"dataframe\">\n",
       "  <thead>\n",
       "    <tr style=\"text-align: right;\">\n",
       "      <th></th>\n",
       "      <th>FirstNameLen</th>\n",
       "      <th>ModifiedDate</th>\n",
       "    </tr>\n",
       "  </thead>\n",
       "  <tbody>\n",
       "    <tr>\n",
       "      <th>842</th>\n",
       "      <td>7</td>\n",
       "      <td>2009-05-16</td>\n",
       "    </tr>\n",
       "    <tr>\n",
       "      <th>843</th>\n",
       "      <td>8</td>\n",
       "      <td>2009-05-16</td>\n",
       "    </tr>\n",
       "    <tr>\n",
       "      <th>844</th>\n",
       "      <td>8</td>\n",
       "      <td>2009-05-16</td>\n",
       "    </tr>\n",
       "    <tr>\n",
       "      <th>845</th>\n",
       "      <td>3</td>\n",
       "      <td>2009-05-16</td>\n",
       "    </tr>\n",
       "    <tr>\n",
       "      <th>846</th>\n",
       "      <td>3</td>\n",
       "      <td>2009-05-16</td>\n",
       "    </tr>\n",
       "  </tbody>\n",
       "</table>\n",
       "</div>"
      ],
      "text/plain": [
       "     FirstNameLen ModifiedDate\n",
       "842             7   2009-05-16\n",
       "843             8   2009-05-16\n",
       "844             8   2009-05-16\n",
       "845             3   2009-05-16\n",
       "846             3   2009-05-16"
      ]
     },
     "execution_count": 16,
     "metadata": {},
     "output_type": "execute_result"
    }
   ],
   "source": [
    "df3.tail()"
   ]
  },
  {
   "cell_type": "code",
   "execution_count": 3,
   "id": "0a1a889d",
   "metadata": {},
   "outputs": [],
   "source": [
    "from datetime import date, timedelta\n",
    "\n",
    "\n",
    "def int_to_date(day_int: int, start_date: t.Optional[date] = None) -> str:\n",
    "    \"\"\"\n",
    "    Convert an integer to a date string in the format YYYY-MM-DD.\n",
    "\n",
    "    This function is specifically designed to this dataset\n",
    "    \"\"\"\n",
    "\n",
    "    if start_date is None:\n",
    "        start_date = date(2005, 7, 1)\n",
    "\n",
    "    result = start_date + timedelta(days=day_int)\n",
    "    result = result.strftime(\"%Y-%m-%d\")\n",
    "    return result"
   ]
  },
  {
   "cell_type": "code",
   "execution_count": 4,
   "id": "5e78028d",
   "metadata": {},
   "outputs": [
    {
     "data": {
      "text/plain": [
       "['2005-07-02', '2005-07-03', '2005-07-04', '2005-07-05', '2005-07-06']"
      ]
     },
     "execution_count": 4,
     "metadata": {},
     "output_type": "execute_result"
    }
   ],
   "source": [
    "list_example = [1, 2, 3, 4, 5]\n",
    "\n",
    "list_dates = list()\n",
    "for i, value in enumerate(list_example):\n",
    "    list_dates.append(int_to_date(value))\n",
    "\n",
    "list_dates"
   ]
  }
 ],
 "metadata": {
  "kernelspec": {
   "display_name": ".venv",
   "language": "python",
   "name": "python3"
  },
  "language_info": {
   "codemirror_mode": {
    "name": "ipython",
    "version": 3
   },
   "file_extension": ".py",
   "mimetype": "text/x-python",
   "name": "python",
   "nbconvert_exporter": "python",
   "pygments_lexer": "ipython3",
   "version": "3.10.16"
  }
 },
 "nbformat": 4,
 "nbformat_minor": 5
}
