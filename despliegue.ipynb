{
 "cells": [
  {
   "cell_type": "markdown",
   "id": "618e19bc",
   "metadata": {},
   "source": [
    "# Notebook para el despliegue del modelo en la nube de Azure\n",
    "\n",
    "---"
   ]
  },
  {
   "cell_type": "code",
   "execution_count": null,
   "id": "afde6b9e",
   "metadata": {},
   "outputs": [],
   "source": [
    "import json\n",
    "import os\n",
    "from dotenv import load_dotenv\n",
    "load_dotenv()\n",
    "\n",
    "# Usamos una variable de entorno oculta para cargar el id de la suscripción, se trata de un archivo .env que debe estar en el mismo directorio que este script\n",
    "my_secret = os.getenv(\"MY_SECRET\")\n",
    "\n",
    "\n",
    "my_id = my_secret\n",
    "\n",
    "from azureml.core import Workspace\n",
    "\n",
    "ws = Workspace.create(name=\"workspace4\",\n",
    "                      subscription_id = my_id,\n",
    "                      resource_group = \"act-cloud-3\",\n",
    "                      location = \"eastus2\")\n",
    "\n",
    "from azureml.core.model import Model\n",
    "\n",
    "mname = \"model\"\n",
    "registered_model = Model.register(model_path=\"model.pkl\",\n",
    "                                  model_name=mname,\n",
    "                                  workspace=ws)\n"
   ]
  }
 ],
 "metadata": {
  "kernelspec": {
   "display_name": ".venv",
   "language": "python",
   "name": "python3"
  },
  "language_info": {
   "name": "python",
   "version": "3.10.14"
  }
 },
 "nbformat": 4,
 "nbformat_minor": 5
}
