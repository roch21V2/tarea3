{
 "cells": [
  {
   "cell_type": "markdown",
   "id": "618e19bc",
   "metadata": {},
   "source": [
    "# Notebook para el despliegue del modelo en la nube de Azure\n",
    "\n",
    "---"
   ]
  },
  {
   "cell_type": "code",
   "execution_count": null,
   "id": "afde6b9e",
   "metadata": {},
   "outputs": [
    {
     "name": "stdout",
     "output_type": "stream",
     "text": [
      "Deploying StorageAccount with name workspacstoragee990dada8.\n",
      "Deploying KeyVault with name workspackeyvaultcfb84d48.\n",
      "Deploying AppInsights with name workspacinsightsc526edbb.\n",
      "Deployed AppInsights with name workspacinsightsc526edbb. Took 1.68 seconds.\n",
      "Deployed KeyVault with name workspackeyvaultcfb84d48. Took 17.75 seconds.\n",
      "Deployed StorageAccount with name workspacstoragee990dada8. Took 24.92 seconds.\n",
      "Deploying Workspace with name workspace5.\n",
      "Deployed Workspace with name workspace5. Took 20.25 seconds.\n",
      "Registering model model\n"
     ]
    }
   ],
   "source": [
    "import json\n",
    "import os\n",
    "from dotenv import load_dotenv\n",
    "load_dotenv()\n",
    "\n",
    "# Usamos una variable de entorno oculta para cargar el id de la suscripción, se trata de un archivo .env que debe estar en el mismo directorio que este script\n",
    "my_secret = os.getenv(\"MY_SECRET\")\n",
    "tenant_id = os.getenv(\"TENANT_ID\")\n",
    "\n",
    "my_id = my_secret\n",
    "\n",
    "from azureml.core.authentication import InteractiveLoginAuthentication\n",
    "ia = InteractiveLoginAuthentication(tenant_id=tenant_id)\n",
    "\n",
    "from azureml.core import Workspace\n",
    "\n",
    "ws = Workspace.create(name=\"workspace5\",\n",
    "                      subscription_id = my_id,\n",
    "                      resource_group = \"act-cloud-4\",\n",
    "                      location = \"centralindia\")\n",
    "\n",
    "from azureml.core.model import Model\n",
    "\n",
    "mname = \"model\"\n",
    "registered_model = Model.register(model_path=\"linear_model.pkl\",\n",
    "                                  model_name=mname,\n",
    "                                  workspace=ws)\n"
   ]
  },
  {
   "cell_type": "code",
   "execution_count": 2,
   "id": "762798b6",
   "metadata": {},
   "outputs": [],
   "source": [
    "################ score.py ###################\n",
    "\n",
    "\n",
    "scorepy = f\"\"\"\n",
    "import json\n",
    "import joblib\n",
    "import numpy as np\n",
    "import pandas as pd\n",
    "from azureml.core.model import Model\n",
    "from datetime import date, timedelta\n",
    "\n",
    "def init():\n",
    "  global model\n",
    "  model_path = Model.get_model_path('model')\n",
    "  model = joblib.load(model_path)\n",
    "\n",
    "def prepare_data(df:pd.DataFrame) -> pd.DataFrame:\n",
    "    df = df[['FirstName', 'ModifiedDate']].sort_values(by='ModifiedDate')\n",
    "    df['FirstNameLen'] = df['FirstName'].str.len()\n",
    "    df[\"ModifiedDate\"] = pd.to_datetime(df[\"ModifiedDate\"]) - pd.to_datetime(df[\"ModifiedDate\"]).min()\n",
    "    df[\"ModifiedDate\"] = df[\"ModifiedDate\"].dt.days\n",
    "    \n",
    "    return df[['FirstNameLen', 'ModifiedDate']].reset_index(drop=True)\n",
    "\n",
    "def int_to_date(day_int: int, start_date: date = date(2005, 7, 1)) -> date:\n",
    "    \n",
    "    result=start_date + timedelta(days=day_int)\n",
    "    result = result.strftime(\"%Y-%m-%d\")\n",
    "    return result\n",
    "\n",
    "def run(raw_data):\n",
    "  try: ## Try la predicción.\n",
    "    data = json.loads(raw_data)['data'][0]\n",
    "    data = pd.DataFrame(data)\n",
    "\n",
    "    data = prepare_data(data)\n",
    "\n",
    "    columns_model = [\"FirstNameLen\"]\n",
    "\n",
    "    data_dummies = data[columns_model]\n",
    "\n",
    "    result = model.predict(data_dummies).tolist()\n",
    "\n",
    "    for i in range(len(result)):\n",
    "      result[i] = int_to_date(result[i])\n",
    "   \n",
    "\n",
    "    return json.dumps(result)\n",
    "  except Exception as e:\n",
    "    return json.dumps(str(e))\n",
    "\"\"\"\n",
    "\n",
    "file_score = open(\"score.py\", \"w\")\n",
    "file_score.write(scorepy)\n",
    "file_score.close()\n"
   ]
  },
  {
   "cell_type": "code",
   "execution_count": null,
   "id": "1d00f9ef",
   "metadata": {},
   "outputs": [
    {
     "name": "stderr",
     "output_type": "stream",
     "text": [
      "C:\\Users\\angel\\AppData\\Local\\Temp\\ipykernel_16948\\4056085815.py:16: FutureWarning: azureml.core.model:\n",
      "To leverage new model deployment capabilities, AzureML recommends using CLI/SDK v2 to deploy models as online endpoint, \n",
      "please refer to respective documentations \n",
      "https://docs.microsoft.com/azure/machine-learning/how-to-deploy-managed-online-endpoints /\n",
      "https://docs.microsoft.com/azure/machine-learning/how-to-attach-kubernetes-anywhere \n",
      "For more information on migration, see https://aka.ms/acimoemigration \n",
      "To disable CLI/SDK v1 deprecation warning set AZUREML_LOG_DEPRECATION_WARNING_ENABLED to 'False'\n",
      "  service = Model.deploy(workspace=ws,\n"
     ]
    }
   ],
   "source": [
    "from azureml.core.environment import Environment\n",
    "virtual_env = Environment(\"env-4-dates\")\n",
    "\n",
    "from azureml.core.conda_dependencies import CondaDependencies\n",
    "virtual_env.python.conda_dependencies = CondaDependencies.create(conda_packages=['pandas','scikit-learn']) ## Usar los paquetes correctos\n",
    "\n",
    "\n",
    "from azureml.core.model import InferenceConfig\n",
    "from azureml.core.webservice import AciWebservice\n",
    "inference_config = InferenceConfig(\n",
    "                                environment=virtual_env,\n",
    "                                entry_script=\"score.py\",\n",
    "                                )\n",
    "aci_config = AciWebservice.deploy_configuration(cpu_cores=2, memory_gb=3) \n",
    "\n",
    "service = Model.deploy(workspace=ws,\n",
    "                       name='service-2',\n",
    "                       models=[registered_model],\n",
    "                       inference_config=inference_config,\n",
    "                       deployment_config=aci_config,\n",
    "                       overwrite=True,\n",
    "                       )"
   ]
  },
  {
   "cell_type": "code",
   "execution_count": 4,
   "id": "eea3f04c",
   "metadata": {},
   "outputs": [
    {
     "name": "stderr",
     "output_type": "stream",
     "text": [
      "Service deployment polling reached non-successful terminal state, current service state: Unhealthy\n",
      "Operation ID: a8edd0a1-9772-4f6a-8224-6dd70dc12ab4\n",
      "More information can be found using '.get_logs()'\n",
      "Error:\n",
      "{\n",
      "  \"code\": \"AciDeploymentFailed\",\n",
      "  \"statusCode\": 400,\n",
      "  \"message\": \"Aci Deployment failed with exception: Your scoring file's init() function restarts frequently. You can address the error by increasing the value of memory_gb in deployment_config.\",\n",
      "  \"details\": [\n",
      "    {\n",
      "      \"code\": \"ScoreInitRestart\",\n",
      "      \"message\": \"Your scoring file's init() function restarts frequently. You can address the error by increasing the value of memory_gb in deployment_config.\"\n",
      "    }\n",
      "  ]\n",
      "}\n",
      "\n"
     ]
    },
    {
     "ename": "WebserviceException",
     "evalue": "WebserviceException:\n\tMessage: Service deployment polling reached non-successful terminal state, current service state: Unhealthy\nOperation ID: a8edd0a1-9772-4f6a-8224-6dd70dc12ab4\nMore information can be found using '.get_logs()'\nError:\n{\n  \"code\": \"AciDeploymentFailed\",\n  \"statusCode\": 400,\n  \"message\": \"Aci Deployment failed with exception: Your scoring file's init() function restarts frequently. You can address the error by increasing the value of memory_gb in deployment_config.\",\n  \"details\": [\n    {\n      \"code\": \"ScoreInitRestart\",\n      \"message\": \"Your scoring file's init() function restarts frequently. You can address the error by increasing the value of memory_gb in deployment_config.\"\n    }\n  ]\n}\n\tInnerException None\n\tErrorResponse \n{\n    \"error\": {\n        \"message\": \"Service deployment polling reached non-successful terminal state, current service state: Unhealthy\\nOperation ID: a8edd0a1-9772-4f6a-8224-6dd70dc12ab4\\nMore information can be found using '.get_logs()'\\nError:\\n{\\n  \\\"code\\\": \\\"AciDeploymentFailed\\\",\\n  \\\"statusCode\\\": 400,\\n  \\\"message\\\": \\\"Aci Deployment failed with exception: Your scoring file's init() function restarts frequently. You can address the error by increasing the value of memory_gb in deployment_config.\\\",\\n  \\\"details\\\": [\\n    {\\n      \\\"code\\\": \\\"ScoreInitRestart\\\",\\n      \\\"message\\\": \\\"Your scoring file's init() function restarts frequently. You can address the error by increasing the value of memory_gb in deployment_config.\\\"\\n    }\\n  ]\\n}\"\n    }\n}",
     "output_type": "error",
     "traceback": [
      "\u001b[1;31m---------------------------------------------------------------------------\u001b[0m",
      "\u001b[1;31mWebserviceException\u001b[0m                       Traceback (most recent call last)",
      "Cell \u001b[1;32mIn[4], line 2\u001b[0m\n\u001b[0;32m      1\u001b[0m \u001b[38;5;66;03m#Publicar el servicio y guardar el URI en un archivo json\u001b[39;00m\n\u001b[1;32m----> 2\u001b[0m \u001b[43mservice\u001b[49m\u001b[38;5;241;43m.\u001b[39;49m\u001b[43mwait_for_deployment\u001b[49m\u001b[43m(\u001b[49m\u001b[43m)\u001b[49m\n\u001b[0;32m      4\u001b[0m scoring_uri \u001b[38;5;241m=\u001b[39m service\u001b[38;5;241m.\u001b[39mscoring_uri\n\u001b[0;32m      6\u001b[0m scoreuri \u001b[38;5;241m=\u001b[39m json\u001b[38;5;241m.\u001b[39mdumps({\u001b[38;5;124m\"\u001b[39m\u001b[38;5;124mURI\u001b[39m\u001b[38;5;124m\"\u001b[39m: [scoring_uri]})\n",
      "File \u001b[1;32md:\\claseCloud\\tarea3\\.venv\\lib\\site-packages\\azureml\\core\\webservice\\webservice.py:910\u001b[0m, in \u001b[0;36mWebservice.wait_for_deployment\u001b[1;34m(self, show_output, timeout_sec)\u001b[0m\n\u001b[0;32m    907\u001b[0m         \u001b[38;5;28;01mif\u001b[39;00m \u001b[38;5;129;01mnot\u001b[39;00m logs_response:\n\u001b[0;32m    908\u001b[0m             logs_response \u001b[38;5;241m=\u001b[39m \u001b[38;5;124m'\u001b[39m\u001b[38;5;124mCurrent sub-operation type not known, more logs unavailable.\u001b[39m\u001b[38;5;124m'\u001b[39m\n\u001b[1;32m--> 910\u001b[0m         \u001b[38;5;28;01mraise\u001b[39;00m WebserviceException(\u001b[38;5;124m'\u001b[39m\u001b[38;5;124mService deployment polling reached non-successful terminal state, current \u001b[39m\u001b[38;5;124m'\u001b[39m\n\u001b[0;32m    911\u001b[0m                                   \u001b[38;5;124m'\u001b[39m\u001b[38;5;124mservice state: \u001b[39m\u001b[38;5;132;01m{}\u001b[39;00m\u001b[38;5;130;01m\\n\u001b[39;00m\u001b[38;5;124m'\u001b[39m\n\u001b[0;32m    912\u001b[0m                                   \u001b[38;5;124m'\u001b[39m\u001b[38;5;124mOperation ID: \u001b[39m\u001b[38;5;132;01m{}\u001b[39;00m\u001b[38;5;130;01m\\n\u001b[39;00m\u001b[38;5;124m'\u001b[39m\n\u001b[0;32m    913\u001b[0m                                   \u001b[38;5;124m'\u001b[39m\u001b[38;5;132;01m{}\u001b[39;00m\u001b[38;5;130;01m\\n\u001b[39;00m\u001b[38;5;124m'\u001b[39m\n\u001b[0;32m    914\u001b[0m                                   \u001b[38;5;124m'\u001b[39m\u001b[38;5;124mError:\u001b[39m\u001b[38;5;130;01m\\n\u001b[39;00m\u001b[38;5;124m'\u001b[39m\n\u001b[0;32m    915\u001b[0m                                   \u001b[38;5;124m'\u001b[39m\u001b[38;5;132;01m{}\u001b[39;00m\u001b[38;5;124m'\u001b[39m\u001b[38;5;241m.\u001b[39mformat(\u001b[38;5;28mself\u001b[39m\u001b[38;5;241m.\u001b[39mstate, \u001b[38;5;28mself\u001b[39m\u001b[38;5;241m.\u001b[39m_operation_endpoint\u001b[38;5;241m.\u001b[39msplit(\u001b[38;5;124m'\u001b[39m\u001b[38;5;124m/\u001b[39m\u001b[38;5;124m'\u001b[39m)[\u001b[38;5;241m-\u001b[39m\u001b[38;5;241m1\u001b[39m],\n\u001b[0;32m    916\u001b[0m                                               logs_response, format_error_response), logger\u001b[38;5;241m=\u001b[39mmodule_logger)\n\u001b[0;32m    917\u001b[0m     \u001b[38;5;28mprint\u001b[39m(\u001b[38;5;124m'\u001b[39m\u001b[38;5;132;01m{}\u001b[39;00m\u001b[38;5;124m service creation operation finished, operation \u001b[39m\u001b[38;5;124m\"\u001b[39m\u001b[38;5;132;01m{}\u001b[39;00m\u001b[38;5;124m\"\u001b[39m\u001b[38;5;124m'\u001b[39m\u001b[38;5;241m.\u001b[39mformat(\u001b[38;5;28mself\u001b[39m\u001b[38;5;241m.\u001b[39m_webservice_type,\n\u001b[0;32m    918\u001b[0m                                                                           operation_state))\n\u001b[0;32m    919\u001b[0m \u001b[38;5;28;01mexcept\u001b[39;00m WebserviceException \u001b[38;5;28;01mas\u001b[39;00m e:\n",
      "\u001b[1;31mWebserviceException\u001b[0m: WebserviceException:\n\tMessage: Service deployment polling reached non-successful terminal state, current service state: Unhealthy\nOperation ID: a8edd0a1-9772-4f6a-8224-6dd70dc12ab4\nMore information can be found using '.get_logs()'\nError:\n{\n  \"code\": \"AciDeploymentFailed\",\n  \"statusCode\": 400,\n  \"message\": \"Aci Deployment failed with exception: Your scoring file's init() function restarts frequently. You can address the error by increasing the value of memory_gb in deployment_config.\",\n  \"details\": [\n    {\n      \"code\": \"ScoreInitRestart\",\n      \"message\": \"Your scoring file's init() function restarts frequently. You can address the error by increasing the value of memory_gb in deployment_config.\"\n    }\n  ]\n}\n\tInnerException None\n\tErrorResponse \n{\n    \"error\": {\n        \"message\": \"Service deployment polling reached non-successful terminal state, current service state: Unhealthy\\nOperation ID: a8edd0a1-9772-4f6a-8224-6dd70dc12ab4\\nMore information can be found using '.get_logs()'\\nError:\\n{\\n  \\\"code\\\": \\\"AciDeploymentFailed\\\",\\n  \\\"statusCode\\\": 400,\\n  \\\"message\\\": \\\"Aci Deployment failed with exception: Your scoring file's init() function restarts frequently. You can address the error by increasing the value of memory_gb in deployment_config.\\\",\\n  \\\"details\\\": [\\n    {\\n      \\\"code\\\": \\\"ScoreInitRestart\\\",\\n      \\\"message\\\": \\\"Your scoring file's init() function restarts frequently. You can address the error by increasing the value of memory_gb in deployment_config.\\\"\\n    }\\n  ]\\n}\"\n    }\n}"
     ]
    }
   ],
   "source": [
    "#Publicar el servicio y guardar el URI en un archivo json\n",
    "service.wait_for_deployment()\n",
    "\n",
    "scoring_uri = service.scoring_uri\n",
    "\n",
    "scoreuri = json.dumps({\"URI\": [scoring_uri]})\n",
    "file = open(\"uri2.json\", \"w\")\n",
    "file.write(scoreuri)\n",
    "file.close()\n"
   ]
  }
 ],
 "metadata": {
  "kernelspec": {
   "display_name": ".venv",
   "language": "python",
   "name": "python3"
  },
  "language_info": {
   "codemirror_mode": {
    "name": "ipython",
    "version": 3
   },
   "file_extension": ".py",
   "mimetype": "text/x-python",
   "name": "python",
   "nbconvert_exporter": "python",
   "pygments_lexer": "ipython3",
   "version": "3.10.14"
  }
 },
 "nbformat": 4,
 "nbformat_minor": 5
}
