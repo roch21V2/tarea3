{
 "cells": [
  {
   "cell_type": "markdown",
   "id": "618e19bc",
   "metadata": {},
   "source": [
    "# Notebook para el despliegue del modelo en la nube de Azure\n",
    "\n",
    "---"
   ]
  },
  {
   "cell_type": "code",
   "execution_count": 2,
   "id": "afde6b9e",
   "metadata": {},
   "outputs": [
    {
     "name": "stdout",
     "output_type": "stream",
     "text": [
      "Performing interactive authentication. Please follow the instructions on the terminal.\n"
     ]
    },
    {
     "name": "stderr",
     "output_type": "stream",
     "text": [
      "The default web browser has been opened at https://login.microsoftonline.com/4130bd39-7c53-419c-b1e5-8758d6d63f21/oauth2/v2.0/authorize. Please continue the login in the web browser. If no web browser is available or if the web browser fails to open, use device code flow with `az login --use-device-code`.\n"
     ]
    },
    {
     "name": "stdout",
     "output_type": "stream",
     "text": [
      "Interactive authentication successfully completed.\n",
      "Deploying StorageAccount with name workspacstorage9615a8962.\n",
      "Deploying KeyVault with name workspackeyvault6c3ae54a.\n",
      "Deploying AppInsights with name workspacinsightsfe37e627.\n",
      "Deployed AppInsights with name workspacinsightsfe37e627. Took 1.93 seconds.\n",
      "Deployed KeyVault with name workspackeyvault6c3ae54a. Took 18.21 seconds.\n",
      "Deploying Workspace with name workspace4.\n",
      "Deployed StorageAccount with name workspacstorage9615a8962. Took 24.68 seconds.\n",
      "Deployed Workspace with name workspace4. Took 21.17 seconds.\n",
      "Registering model model\n"
     ]
    }
   ],
   "source": [
    "import json\n",
    "import os\n",
    "from dotenv import load_dotenv\n",
    "load_dotenv()\n",
    "\n",
    "# Usamos una variable de entorno oculta para cargar el id de la suscripción, se trata de un archivo .env que debe estar en el mismo directorio que este script\n",
    "my_secret = os.getenv(\"MY_SECRET\")\n",
    "tenant_id = os.getenv(\"TENANT_ID\")\n",
    "\n",
    "my_id = my_secret\n",
    "\n",
    "from azureml.core.authentication import InteractiveLoginAuthentication\n",
    "ia = InteractiveLoginAuthentication(tenant_id=tenant_id)\n",
    "\n",
    "from azureml.core import Workspace\n",
    "\n",
    "ws = Workspace.create(name=\"workspace4\",\n",
    "                      subscription_id = my_id,\n",
    "                      resource_group = \"act-cloud-3\",\n",
    "                      location = \"eastus2\")\n",
    "\n",
    "from azureml.core.model import Model\n",
    "\n",
    "mname = \"model\"\n",
    "registered_model = Model.register(model_path=\"linear_model.pkl\",\n",
    "                                  model_name=mname,\n",
    "                                  workspace=ws)\n"
   ]
  },
  {
   "cell_type": "code",
   "execution_count": 3,
   "id": "762798b6",
   "metadata": {},
   "outputs": [],
   "source": [
    "################ score.py ###################\n",
    "\n",
    "\n",
    "scorepy = f\"\"\"\n",
    "import json\n",
    "import joblib\n",
    "import numpy as np\n",
    "import pandas as pd\n",
    "from azureml.core.model import Model\n",
    "from datetime import date, timedelta\n",
    "\n",
    "def init():\n",
    "  global model\n",
    "  model_path = Model.get_model_path('model')\n",
    "  model = joblib.load(model_path)\n",
    "\n",
    "def prepare_data(df:pd.DataFrame) -> pd.DataFrame:\n",
    "    df = df[['FirstName', 'ModifiedDate']].sort_values(by='ModifiedDate')\n",
    "    df['FirstNameLen'] = df['FirstName'].str.len()\n",
    "    df[\"ModifiedDate\"] = pd.to_datetime(df[\"ModifiedDate\"]) - pd.to_datetime(df[\"ModifiedDate\"]).min()\n",
    "    df[\"ModifiedDate\"] = df[\"ModifiedDate\"].dt.days\n",
    "    \n",
    "    return df[['FirstNameLen', 'ModifiedDate']].reset_index(drop=True)\n",
    "\n",
    "def int_to_date(day_int: int, start_date: date = date(2005, 7, 1)) -> date:\n",
    "    \n",
    "    result=start_date + timedelta(days=day_int)\n",
    "    result = result.strftime(\"%Y-%m-%d\")\n",
    "    return result\n",
    "\n",
    "def run(raw_data):\n",
    "  try: ## Try la predicción.\n",
    "    data = json.loads(raw_data)['data'][0]\n",
    "    data = pd.DataFrame(data)\n",
    "\n",
    "    data = prepare_data(data)\n",
    "\n",
    "    columns_model = [\"FirstNameLen\"]\n",
    "\n",
    "    data_dummies = data[columns_model]\n",
    "\n",
    "    result = model.predict(data_dummies).tolist()\n",
    "\n",
    "    for i in range(len(result)):\n",
    "      result[i] = int_to_date(result[i])\n",
    "   \n",
    "\n",
    "    return json.dumps(result)\n",
    "  except Exception as e:\n",
    "    return json.dumps(str(e))\n",
    "\"\"\"\n",
    "\n",
    "file_score = open(\"score.py\", \"w\")\n",
    "file_score.write(scorepy)\n",
    "file_score.close()\n"
   ]
  },
  {
   "cell_type": "code",
   "execution_count": null,
   "id": "1d00f9ef",
   "metadata": {},
   "outputs": [],
   "source": [
    "from azureml.core.environment import Environment\n",
    "virtual_env = Environment(\"env-4-dates\")\n",
    "\n",
    "from azureml.core.conda_dependencies import CondaDependencies\n",
    "virtual_env.python.conda_dependencies = CondaDependencies.create(conda_packages=['pandas','scikit-learn']) ## Usar los paquetes correctos\n",
    "\n",
    "\n",
    "from azureml.core.model import InferenceConfig\n",
    "from azureml.core.webservice import AciWebservice\n",
    "inference_config = InferenceConfig(\n",
    "                                environment=virtual_env,\n",
    "                                entry_script=\"score.py\",\n",
    "                                )\n",
    "aci_config = AciWebservice.deploy_configuration(cpu_cores=0.5, memory_gb=1) \n",
    "\n",
    "service = Model.deploy(workspace=ws,\n",
    "                       name='service-2',\n",
    "                       models=[registered_model],\n",
    "                       inference_config=inference_config,\n",
    "                       deployment_config=aci_config,\n",
    "                       overwrite=True,\n",
    "                       )"
   ]
  }
 ],
 "metadata": {
  "kernelspec": {
   "display_name": ".venv",
   "language": "python",
   "name": "python3"
  },
  "language_info": {
   "codemirror_mode": {
    "name": "ipython",
    "version": 3
   },
   "file_extension": ".py",
   "mimetype": "text/x-python",
   "name": "python",
   "nbconvert_exporter": "python",
   "pygments_lexer": "ipython3",
   "version": "3.10.14"
  }
 },
 "nbformat": 4,
 "nbformat_minor": 5
}
