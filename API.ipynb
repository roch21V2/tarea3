{
 "cells": [
  {
   "cell_type": "code",
   "execution_count": null,
   "id": "705c596e",
   "metadata": {},
   "outputs": [],
   "source": [
    "import pyodbc\n",
    "import pandas as pd\n",
    "# Set up your connection string\n",
    "from dotenv import load_dotenv\n",
    "import os \n",
    "\n",
    "load_dotenv()\n",
    "\n",
    "server = os.getenv('SERVER')\n",
    "database = os.getenv('DATABASE')\n",
    "username = os.getenv('USERNAME')\n",
    "password = os.getenv('PASSWORD')\n",
    "\n",
    "# Define the connection string for SQL Server (Azure)\n",
    "conn_str = (\n",
    "    f'DRIVER={{ODBC Driver 18 for SQL Server}};'\n",
    "    f'SERVER={server};'\n",
    "    f'DATABASE={database};'\n",
    "    f'UID={username};'\n",
    "    f'PWD={password}'\n",
    ")\n",
    "\n",
    "# Establish the connection\n",
    "try:\n",
    "    conn = pyodbc.connect(conn_str)\n",
    "    print(\"Connected to the Azure SQL Database successfully!\")\n",
    "\n",
    "except pyodbc.Error as e:\n",
    "    print(f\"Error connecting to the database: {e}\")\n",
    "\n",
    "\n",
    "query = \"SELECT * FROM SalesLT.customer\"\n",
    "\n",
    "try:\n",
    "    # Read data into a DataFrame\n",
    "    df = pd.read_sql(query, conn)\n",
    "    print(\"Data retrieved successfully!\")\n",
    "except Exception as e:\n",
    "    print(f\"Error reading data: {e}\")\n",
    "\n",
    "conn.close()\n",
    "print(\"Connection closed.\")\n",
    "\n",
    "### Prueba ###\n",
    "data=df.head(5)\n",
    "data2=data.copy()\n"
   ]
  },
  {
   "cell_type": "code",
   "execution_count": null,
   "id": "f164316e",
   "metadata": {},
   "outputs": [],
   "source": [
    "def prepare_data(df:pd.DataFrame) -> pd.DataFrame:\n",
    "    df = df[['FirstName', 'ModifiedDate']].sort_values(by='ModifiedDate')\n",
    "    df['FirstNameLen'] = df['FirstName'].str.len()\n",
    "    df[\"ModifiedDate\"] = pd.to_datetime(df[\"ModifiedDate\"]) - pd.to_datetime(df[\"ModifiedDate\"]).min()\n",
    "    df[\"ModifiedDate\"] = df[\"ModifiedDate\"].dt.days\n",
    "\n",
    "data = prepare_data(data)\n",
    "data_dict = data.to_dict(orient='list')\n",
    "    "
   ]
  },
  {
   "cell_type": "code",
   "execution_count": null,
   "id": "227af66e",
   "metadata": {},
   "outputs": [],
   "source": [
    "import json\n",
    "\n",
    "#Formateado para la API:\n",
    "data_json = json.dumps({\"data\": [data_dict]})\n",
    "\n",
    "suri = open(\"uri2.json\", \"r\")\n",
    "scoring_uri = json.load(suri)[\"URI\"][0]\n",
    "suri.close()"
   ]
  },
  {
   "cell_type": "code",
   "execution_count": null,
   "id": "36d2526b",
   "metadata": {},
   "outputs": [],
   "source": [
    "headers = {\"Content-Type\": \"application/json\"}\n",
    "import requests\n",
    "response = requests.post(scoring_uri, data=data_json, headers=headers)\n",
    "\n",
    "if response.status_code == 200:\n",
    "  result = json.loads(response.json())\n",
    "  print('Predicciones del modelo:',result)\n",
    "  data[\"Exited\"] = result\n",
    "  print('Variable objetivo real:',list(data2['ModifiedDate']))\n",
    "  #Print la precisión del modelo usando el porcentaje de aciertos\n",
    "  aciertos = 0\n",
    "  for i in range(len(data)):\n",
    "    if data[\"Exited\"][i] == list(data2['Bankrupt?'])[i]:\n",
    "      aciertos += 1\n",
    "  precision = aciertos / len(data) * 100\n",
    "  print(f\"Precisión del modelo: {precision:.2f}%\")\n",
    "else:\n",
    "  print(f\"Error: {response.text}\")"
   ]
  }
 ],
 "metadata": {
  "language_info": {
   "name": "python"
  }
 },
 "nbformat": 4,
 "nbformat_minor": 5
}
