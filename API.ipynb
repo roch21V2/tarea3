{
 "cells": [
  {
   "cell_type": "code",
   "execution_count": 3,
   "id": "705c596e",
   "metadata": {},
   "outputs": [
    {
     "name": "stdout",
     "output_type": "stream",
     "text": [
      "Connected to the Azure SQL Database successfully!\n"
     ]
    },
    {
     "name": "stderr",
     "output_type": "stream",
     "text": [
      "C:\\Users\\angel\\AppData\\Local\\Temp\\ipykernel_22188\\2796495651.py:36: UserWarning: pandas only supports SQLAlchemy connectable (engine/connection) or database string URI or sqlite3 DBAPI2 connection. Other DBAPI2 objects are not tested. Please consider using SQLAlchemy.\n",
      "  df = pd.read_sql(query, conn)\n"
     ]
    },
    {
     "name": "stdout",
     "output_type": "stream",
     "text": [
      "Data retrieved successfully!\n",
      "Connection closed.\n"
     ]
    }
   ],
   "source": [
    "import pyodbc\n",
    "import pandas as pd\n",
    "# Set up your connection string\n",
    "from dotenv import load_dotenv\n",
    "import os \n",
    "\n",
    "load_dotenv()\n",
    "\n",
    "server = os.getenv('SERVER')\n",
    "database = os.getenv('DATABASE')\n",
    "username = os.getenv('USERNAME')\n",
    "password = os.getenv('PASSWORD')\n",
    "\n",
    "# Define the connection string for SQL Server (Azure)\n",
    "conn_str = (\n",
    "    f'DRIVER={{ODBC Driver 18 for SQL Server}};'\n",
    "    f'SERVER={server};'\n",
    "    f'DATABASE={database};'\n",
    "    f'UID={username};'\n",
    "    f'PWD={password}'\n",
    ")\n",
    "\n",
    "# Establish the connection\n",
    "try:\n",
    "    conn = pyodbc.connect(conn_str)\n",
    "    print(\"Connected to the Azure SQL Database successfully!\")\n",
    "\n",
    "except pyodbc.Error as e:\n",
    "    print(f\"Error connecting to the database: {e}\")\n",
    "\n",
    "\n",
    "query = \"SELECT * FROM SalesLT.customer\"\n",
    "\n",
    "try:\n",
    "    # Read data into a DataFrame\n",
    "    df = pd.read_sql(query, conn)\n",
    "    print(\"Data retrieved successfully!\")\n",
    "except Exception as e:\n",
    "    print(f\"Error reading data: {e}\")\n",
    "\n",
    "conn.close()\n",
    "print(\"Connection closed.\")\n",
    "\n",
    "### Prueba ###\n",
    "data=df.head(5)\n",
    "data2=data.copy()\n"
   ]
  },
  {
   "cell_type": "code",
   "execution_count": 5,
   "id": "db15c2cd",
   "metadata": {},
   "outputs": [],
   "source": [
    "data_dict = data.to_dict(orient='list')"
   ]
  },
  {
   "cell_type": "code",
   "execution_count": 8,
   "id": "e3beaf58",
   "metadata": {},
   "outputs": [
    {
     "data": {
      "text/plain": [
       "{'CustomerID': [1, 2, 3, 4, 5],\n",
       " 'NameStyle': [False, False, False, False, False],\n",
       " 'Title': ['Mr.', 'Mr.', 'Ms.', 'Ms.', 'Mr.'],\n",
       " 'FirstName': ['Orlando', 'Keith', 'Donna', 'Janet', 'Lucy'],\n",
       " 'MiddleName': ['N.', None, 'F.', 'M.', None],\n",
       " 'LastName': ['Gee', 'Harris', 'Carreras', 'Gates', 'Harrington'],\n",
       " 'Suffix': [None, None, None, None, None],\n",
       " 'CompanyName': ['A Bike Store',\n",
       "  'Progressive Sports',\n",
       "  'Advanced Bike Components',\n",
       "  'Modular Cycle Systems',\n",
       "  'Metropolitan Sports Supply'],\n",
       " 'SalesPerson': ['adventure-works\\\\pamela0',\n",
       "  'adventure-works\\\\david8',\n",
       "  'adventure-works\\\\jillian0',\n",
       "  'adventure-works\\\\jillian0',\n",
       "  'adventure-works\\\\shu0'],\n",
       " 'EmailAddress': ['orlando0@adventure-works.com',\n",
       "  'keith0@adventure-works.com',\n",
       "  'donna0@adventure-works.com',\n",
       "  'janet1@adventure-works.com',\n",
       "  'lucy0@adventure-works.com'],\n",
       " 'Phone': ['245-555-0173',\n",
       "  '170-555-0127',\n",
       "  '279-555-0130',\n",
       "  '710-555-0173',\n",
       "  '828-555-0186'],\n",
       " 'PasswordHash': ['L/Rlwxzp4w7RWmEgXX+/A7cXaePEPcp+KwQhl2fJL7w=',\n",
       "  'YPdtRdvqeAhj6wyxEsFdshBDNXxkCXn+CRgbvJItknw=',\n",
       "  'LNoK27abGQo48gGue3EBV/UrlYSToV0/s87dCRV7uJk=',\n",
       "  'ElzTpSNbUW1Ut+L5cWlfR7MF6nBZia8WpmGaQPjLOJA=',\n",
       "  'KJqV15wsX3PG8TS5GSddp6LFFVdd3CoRftZM/tP0+R4='],\n",
       " 'PasswordSalt': ['1KjXYs4=', 'fs1ZGhY=', 'YTNH5Rw=', 'nm7D5e4=', 'cNFKU4w='],\n",
       " 'rowguid': ['3F5AE95E-B87D-4AED-95B4-C3797AFCB74F',\n",
       "  'E552F657-A9AF-4A7D-A645-C429D6E02491',\n",
       "  '130774B1-DB21-4EF3-98C8-C104BCD6ED6D',\n",
       "  'FF862851-1DAA-4044-BE7C-3E85583C054D',\n",
       "  '83905BDC-6F5E-4F71-B162-C98DA069F38A'],\n",
       " 'ModifiedDate': ['2005-08-01 00:00:00',\n",
       "  '2006-08-01 00:00:00',\n",
       "  '2005-09-01 00:00:00',\n",
       "  '2006-07-01 00:00:00',\n",
       "  '2006-09-01 00:00:00']}"
      ]
     },
     "execution_count": 8,
     "metadata": {},
     "output_type": "execute_result"
    }
   ],
   "source": [
    "#Transform the 'ModifiedDate' column to string\n",
    "for i in range(len(data_dict['ModifiedDate'])):\n",
    "    data_dict['ModifiedDate'][i] = str(data_dict['ModifiedDate'][i])\n",
    "data_dict"
   ]
  },
  {
   "cell_type": "code",
   "execution_count": null,
   "id": "f164316e",
   "metadata": {},
   "outputs": [],
   "source": [
    "def prepare_data(df:pd.DataFrame) -> pd.DataFrame:\n",
    "    df = df[['FirstName', 'ModifiedDate']].sort_values(by='ModifiedDate')\n",
    "    df['FirstNameLen'] = df['FirstName'].str.len()\n",
    "    df[\"ModifiedDate\"] = pd.to_datetime(df[\"ModifiedDate\"]) - pd.to_datetime(df[\"ModifiedDate\"]).min()\n",
    "    df[\"ModifiedDate\"] = df[\"ModifiedDate\"].dt.days\n",
    "\n",
    "data = prepare_data(data)\n",
    "data_dict = data.to_dict(orient='list')\n",
    "    "
   ]
  },
  {
   "cell_type": "code",
   "execution_count": 9,
   "id": "227af66e",
   "metadata": {},
   "outputs": [],
   "source": [
    "import json\n",
    "\n",
    "#Formateado para la API:\n",
    "data_json = json.dumps({\"data\": [data_dict]})\n",
    "\n",
    "suri = open(\"uri2.json\", \"r\")\n",
    "scoring_uri = json.load(suri)[\"URI\"][0]\n",
    "suri.close()"
   ]
  },
  {
   "cell_type": "code",
   "execution_count": 10,
   "id": "36d2526b",
   "metadata": {},
   "outputs": [
    {
     "name": "stdout",
     "output_type": "stream",
     "text": [
      "Predicciones del modelo: ['2006-07-30', '2006-07-06', '2006-07-06', '2006-07-06', '2006-06-23']\n",
      "Variable objetivo real: [Timestamp('2005-08-01 00:00:00'), Timestamp('2006-08-01 00:00:00'), Timestamp('2005-09-01 00:00:00'), Timestamp('2006-07-01 00:00:00'), Timestamp('2006-09-01 00:00:00')]\n",
      "Precisión del modelo: 0.00%\n"
     ]
    },
    {
     "name": "stderr",
     "output_type": "stream",
     "text": [
      "C:\\Users\\angel\\AppData\\Local\\Temp\\ipykernel_22188\\2714254649.py:8: SettingWithCopyWarning: \n",
      "A value is trying to be set on a copy of a slice from a DataFrame.\n",
      "Try using .loc[row_indexer,col_indexer] = value instead\n",
      "\n",
      "See the caveats in the documentation: https://pandas.pydata.org/pandas-docs/stable/user_guide/indexing.html#returning-a-view-versus-a-copy\n",
      "  data[\"Exited\"] = result\n"
     ]
    }
   ],
   "source": [
    "headers = {\"Content-Type\": \"application/json\"}\n",
    "import requests\n",
    "response = requests.post(scoring_uri, data=data_json, headers=headers)\n",
    "\n",
    "if response.status_code == 200:\n",
    "  result = json.loads(response.json())\n",
    "  print('Predicciones del modelo:',result)\n",
    "  data[\"Exited\"] = result\n",
    "  print('Variable objetivo real:',list(data2['ModifiedDate']))\n",
    "  #Print la precisión del modelo usando el porcentaje de aciertos\n",
    "  aciertos = 0\n",
    "  for i in range(len(data)):\n",
    "    if data[\"Exited\"][i] == list(data2['ModifiedDate'])[i]:\n",
    "      aciertos += 1\n",
    "  precision = aciertos / len(data) * 100\n",
    "  print(f\"Precisión del modelo: {precision:.2f}%\")\n",
    "else:\n",
    "  print(f\"Error: {response.text}\")"
   ]
  }
 ],
 "metadata": {
  "kernelspec": {
   "display_name": ".venv",
   "language": "python",
   "name": "python3"
  },
  "language_info": {
   "codemirror_mode": {
    "name": "ipython",
    "version": 3
   },
   "file_extension": ".py",
   "mimetype": "text/x-python",
   "name": "python",
   "nbconvert_exporter": "python",
   "pygments_lexer": "ipython3",
   "version": "3.10.14"
  }
 },
 "nbformat": 4,
 "nbformat_minor": 5
}
